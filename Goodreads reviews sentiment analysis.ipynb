{
 "cells": [
  {
   "cell_type": "markdown",
   "id": "23b20321",
   "metadata": {},
   "source": [
    "# Import libraries and dataset"
   ]
  },
  {
   "cell_type": "code",
   "execution_count": 1,
   "id": "a9e62d91",
   "metadata": {},
   "outputs": [],
   "source": [
    "import pandas as pd\n",
    "import numpy as np\n",
    "import matplotlib.pyplot as plt"
   ]
  },
  {
   "cell_type": "code",
   "execution_count": 2,
   "id": "ecd090fe",
   "metadata": {},
   "outputs": [],
   "source": [
    "reviews_dataset=pd.read_csv('goodreads_train.csv')"
   ]
  },
  {
   "cell_type": "code",
   "execution_count": 3,
   "id": "8b049c0a",
   "metadata": {},
   "outputs": [
    {
     "data": {
      "text/html": [
       "<div>\n",
       "<style scoped>\n",
       "    .dataframe tbody tr th:only-of-type {\n",
       "        vertical-align: middle;\n",
       "    }\n",
       "\n",
       "    .dataframe tbody tr th {\n",
       "        vertical-align: top;\n",
       "    }\n",
       "\n",
       "    .dataframe thead th {\n",
       "        text-align: right;\n",
       "    }\n",
       "</style>\n",
       "<table border=\"1\" class=\"dataframe\">\n",
       "  <thead>\n",
       "    <tr style=\"text-align: right;\">\n",
       "      <th></th>\n",
       "      <th>user_id</th>\n",
       "      <th>book_id</th>\n",
       "      <th>review_id</th>\n",
       "      <th>rating</th>\n",
       "      <th>review_text</th>\n",
       "      <th>date_added</th>\n",
       "      <th>date_updated</th>\n",
       "      <th>read_at</th>\n",
       "      <th>started_at</th>\n",
       "      <th>n_votes</th>\n",
       "      <th>n_comments</th>\n",
       "    </tr>\n",
       "  </thead>\n",
       "  <tbody>\n",
       "    <tr>\n",
       "      <th>0</th>\n",
       "      <td>8842281e1d1347389f2ab93d60773d4d</td>\n",
       "      <td>18245960</td>\n",
       "      <td>dfdbb7b0eb5a7e4c26d59a937e2e5feb</td>\n",
       "      <td>5</td>\n",
       "      <td>This is a special book. It started slow for ab...</td>\n",
       "      <td>Sun Jul 30 07:44:10 -0700 2017</td>\n",
       "      <td>Wed Aug 30 00:00:26 -0700 2017</td>\n",
       "      <td>Sat Aug 26 12:05:52 -0700 2017</td>\n",
       "      <td>Tue Aug 15 13:23:18 -0700 2017</td>\n",
       "      <td>28</td>\n",
       "      <td>1</td>\n",
       "    </tr>\n",
       "    <tr>\n",
       "      <th>1</th>\n",
       "      <td>8842281e1d1347389f2ab93d60773d4d</td>\n",
       "      <td>16981</td>\n",
       "      <td>a5d2c3628987712d0e05c4f90798eb67</td>\n",
       "      <td>3</td>\n",
       "      <td>Recommended by Don Katz. Avail for free in Dec...</td>\n",
       "      <td>Mon Dec 05 10:46:44 -0800 2016</td>\n",
       "      <td>Wed Mar 22 11:37:04 -0700 2017</td>\n",
       "      <td>NaN</td>\n",
       "      <td>NaN</td>\n",
       "      <td>1</td>\n",
       "      <td>0</td>\n",
       "    </tr>\n",
       "    <tr>\n",
       "      <th>2</th>\n",
       "      <td>8842281e1d1347389f2ab93d60773d4d</td>\n",
       "      <td>28684704</td>\n",
       "      <td>2ede853b14dc4583f96cf5d120af636f</td>\n",
       "      <td>3</td>\n",
       "      <td>A fun, fast paced science fiction thriller. I ...</td>\n",
       "      <td>Tue Nov 15 11:29:22 -0800 2016</td>\n",
       "      <td>Mon Mar 20 23:40:27 -0700 2017</td>\n",
       "      <td>Sat Mar 18 23:22:42 -0700 2017</td>\n",
       "      <td>Fri Mar 17 23:45:40 -0700 2017</td>\n",
       "      <td>22</td>\n",
       "      <td>0</td>\n",
       "    </tr>\n",
       "    <tr>\n",
       "      <th>3</th>\n",
       "      <td>8842281e1d1347389f2ab93d60773d4d</td>\n",
       "      <td>27161156</td>\n",
       "      <td>ced5675e55cd9d38a524743f5c40996e</td>\n",
       "      <td>0</td>\n",
       "      <td>Recommended reading to understand what is goin...</td>\n",
       "      <td>Wed Nov 09 17:37:04 -0800 2016</td>\n",
       "      <td>Wed Nov 09 17:38:20 -0800 2016</td>\n",
       "      <td>NaN</td>\n",
       "      <td>NaN</td>\n",
       "      <td>5</td>\n",
       "      <td>1</td>\n",
       "    </tr>\n",
       "    <tr>\n",
       "      <th>4</th>\n",
       "      <td>8842281e1d1347389f2ab93d60773d4d</td>\n",
       "      <td>25884323</td>\n",
       "      <td>332732725863131279a8e345b63ac33e</td>\n",
       "      <td>4</td>\n",
       "      <td>I really enjoyed this book, and there is a lot...</td>\n",
       "      <td>Mon Apr 25 09:31:23 -0700 2016</td>\n",
       "      <td>Mon Apr 25 09:31:23 -0700 2016</td>\n",
       "      <td>Sun Jun 26 00:00:00 -0700 2016</td>\n",
       "      <td>Sat May 28 00:00:00 -0700 2016</td>\n",
       "      <td>9</td>\n",
       "      <td>1</td>\n",
       "    </tr>\n",
       "    <tr>\n",
       "      <th>...</th>\n",
       "      <td>...</td>\n",
       "      <td>...</td>\n",
       "      <td>...</td>\n",
       "      <td>...</td>\n",
       "      <td>...</td>\n",
       "      <td>...</td>\n",
       "      <td>...</td>\n",
       "      <td>...</td>\n",
       "      <td>...</td>\n",
       "      <td>...</td>\n",
       "      <td>...</td>\n",
       "    </tr>\n",
       "    <tr>\n",
       "      <th>7336</th>\n",
       "      <td>951a6001dea709fe3743516b144634ea</td>\n",
       "      <td>6366110</td>\n",
       "      <td>8c5ce230b614fa7618b52a248eba06c5</td>\n",
       "      <td>5</td>\n",
       "      <td>This is the third book in Sanderson's Alcatraz...</td>\n",
       "      <td>Wed Jan 20 18:01:21 -0800 2010</td>\n",
       "      <td>Wed Jan 20 18:03:18 -0800 2010</td>\n",
       "      <td>Fri Nov 13 00:00:00 -0800 2009</td>\n",
       "      <td>Fri Nov 13 00:00:00 -0800 2009</td>\n",
       "      <td>0</td>\n",
       "      <td>0</td>\n",
       "    </tr>\n",
       "    <tr>\n",
       "      <th>7337</th>\n",
       "      <td>951a6001dea709fe3743516b144634ea</td>\n",
       "      <td>1166599</td>\n",
       "      <td>7699ac6b00166fb089ae4db2a9e6037d</td>\n",
       "      <td>5</td>\n",
       "      <td>Egwene al'Vere is awesome. That is all.</td>\n",
       "      <td>Wed Jan 20 17:55:00 -0800 2010</td>\n",
       "      <td>Wed Jan 20 17:57:32 -0800 2010</td>\n",
       "      <td>Tue Nov 03 00:00:00 -0800 2009</td>\n",
       "      <td>Tue Nov 03 00:00:00 -0800 2009</td>\n",
       "      <td>0</td>\n",
       "      <td>0</td>\n",
       "    </tr>\n",
       "    <tr>\n",
       "      <th>7338</th>\n",
       "      <td>951a6001dea709fe3743516b144634ea</td>\n",
       "      <td>1268479</td>\n",
       "      <td>3ba5204bda91ec80619959fe4b08d00e</td>\n",
       "      <td>5</td>\n",
       "      <td>Just to say two things about Warbreaker: \\n 1....</td>\n",
       "      <td>Wed Jan 20 17:50:51 -0800 2010</td>\n",
       "      <td>Wed Jan 20 17:53:26 -0800 2010</td>\n",
       "      <td>NaN</td>\n",
       "      <td>NaN</td>\n",
       "      <td>0</td>\n",
       "      <td>0</td>\n",
       "    </tr>\n",
       "    <tr>\n",
       "      <th>7339</th>\n",
       "      <td>951a6001dea709fe3743516b144634ea</td>\n",
       "      <td>140974</td>\n",
       "      <td>e9c43b26b1c0aa2cc02da2e75e3168d0</td>\n",
       "      <td>3</td>\n",
       "      <td>** spoiler alert ** \\n My main problem with th...</td>\n",
       "      <td>Fri Mar 21 09:22:15 -0700 2008</td>\n",
       "      <td>Fri Jul 16 14:17:20 -0700 2010</td>\n",
       "      <td>NaN</td>\n",
       "      <td>NaN</td>\n",
       "      <td>0</td>\n",
       "      <td>0</td>\n",
       "    </tr>\n",
       "    <tr>\n",
       "      <th>7340</th>\n",
       "      <td>951a6001dea709fe3743516b144634ea</td>\n",
       "      <td>13891</td>\n",
       "      <td>cea9678a05641fcc81670f8ff2c4f072</td>\n",
       "      <td>5</td>\n",
       "      <td>Winter's Heart is a lovely interlude between t...</td>\n",
       "      <td>Fri Mar 21 09:22:10 -0700 2008</td>\n",
       "      <td>Sat May 28 20:34:50 -0700 2011</td>\n",
       "      <td>NaN</td>\n",
       "      <td>NaN</td>\n",
       "      <td>0</td>\n",
       "      <td>0</td>\n",
       "    </tr>\n",
       "  </tbody>\n",
       "</table>\n",
       "<p>7341 rows × 11 columns</p>\n",
       "</div>"
      ],
      "text/plain": [
       "                               user_id   book_id  \\\n",
       "0     8842281e1d1347389f2ab93d60773d4d  18245960   \n",
       "1     8842281e1d1347389f2ab93d60773d4d     16981   \n",
       "2     8842281e1d1347389f2ab93d60773d4d  28684704   \n",
       "3     8842281e1d1347389f2ab93d60773d4d  27161156   \n",
       "4     8842281e1d1347389f2ab93d60773d4d  25884323   \n",
       "...                                ...       ...   \n",
       "7336  951a6001dea709fe3743516b144634ea   6366110   \n",
       "7337  951a6001dea709fe3743516b144634ea   1166599   \n",
       "7338  951a6001dea709fe3743516b144634ea   1268479   \n",
       "7339  951a6001dea709fe3743516b144634ea    140974   \n",
       "7340  951a6001dea709fe3743516b144634ea     13891   \n",
       "\n",
       "                             review_id  rating  \\\n",
       "0     dfdbb7b0eb5a7e4c26d59a937e2e5feb       5   \n",
       "1     a5d2c3628987712d0e05c4f90798eb67       3   \n",
       "2     2ede853b14dc4583f96cf5d120af636f       3   \n",
       "3     ced5675e55cd9d38a524743f5c40996e       0   \n",
       "4     332732725863131279a8e345b63ac33e       4   \n",
       "...                                ...     ...   \n",
       "7336  8c5ce230b614fa7618b52a248eba06c5       5   \n",
       "7337  7699ac6b00166fb089ae4db2a9e6037d       5   \n",
       "7338  3ba5204bda91ec80619959fe4b08d00e       5   \n",
       "7339  e9c43b26b1c0aa2cc02da2e75e3168d0       3   \n",
       "7340  cea9678a05641fcc81670f8ff2c4f072       5   \n",
       "\n",
       "                                            review_text  \\\n",
       "0     This is a special book. It started slow for ab...   \n",
       "1     Recommended by Don Katz. Avail for free in Dec...   \n",
       "2     A fun, fast paced science fiction thriller. I ...   \n",
       "3     Recommended reading to understand what is goin...   \n",
       "4     I really enjoyed this book, and there is a lot...   \n",
       "...                                                 ...   \n",
       "7336  This is the third book in Sanderson's Alcatraz...   \n",
       "7337            Egwene al'Vere is awesome. That is all.   \n",
       "7338  Just to say two things about Warbreaker: \\n 1....   \n",
       "7339  ** spoiler alert ** \\n My main problem with th...   \n",
       "7340  Winter's Heart is a lovely interlude between t...   \n",
       "\n",
       "                          date_added                    date_updated  \\\n",
       "0     Sun Jul 30 07:44:10 -0700 2017  Wed Aug 30 00:00:26 -0700 2017   \n",
       "1     Mon Dec 05 10:46:44 -0800 2016  Wed Mar 22 11:37:04 -0700 2017   \n",
       "2     Tue Nov 15 11:29:22 -0800 2016  Mon Mar 20 23:40:27 -0700 2017   \n",
       "3     Wed Nov 09 17:37:04 -0800 2016  Wed Nov 09 17:38:20 -0800 2016   \n",
       "4     Mon Apr 25 09:31:23 -0700 2016  Mon Apr 25 09:31:23 -0700 2016   \n",
       "...                              ...                             ...   \n",
       "7336  Wed Jan 20 18:01:21 -0800 2010  Wed Jan 20 18:03:18 -0800 2010   \n",
       "7337  Wed Jan 20 17:55:00 -0800 2010  Wed Jan 20 17:57:32 -0800 2010   \n",
       "7338  Wed Jan 20 17:50:51 -0800 2010  Wed Jan 20 17:53:26 -0800 2010   \n",
       "7339  Fri Mar 21 09:22:15 -0700 2008  Fri Jul 16 14:17:20 -0700 2010   \n",
       "7340  Fri Mar 21 09:22:10 -0700 2008  Sat May 28 20:34:50 -0700 2011   \n",
       "\n",
       "                             read_at                      started_at  n_votes  \\\n",
       "0     Sat Aug 26 12:05:52 -0700 2017  Tue Aug 15 13:23:18 -0700 2017       28   \n",
       "1                                NaN                             NaN        1   \n",
       "2     Sat Mar 18 23:22:42 -0700 2017  Fri Mar 17 23:45:40 -0700 2017       22   \n",
       "3                                NaN                             NaN        5   \n",
       "4     Sun Jun 26 00:00:00 -0700 2016  Sat May 28 00:00:00 -0700 2016        9   \n",
       "...                              ...                             ...      ...   \n",
       "7336  Fri Nov 13 00:00:00 -0800 2009  Fri Nov 13 00:00:00 -0800 2009        0   \n",
       "7337  Tue Nov 03 00:00:00 -0800 2009  Tue Nov 03 00:00:00 -0800 2009        0   \n",
       "7338                             NaN                             NaN        0   \n",
       "7339                             NaN                             NaN        0   \n",
       "7340                             NaN                             NaN        0   \n",
       "\n",
       "      n_comments  \n",
       "0              1  \n",
       "1              0  \n",
       "2              0  \n",
       "3              1  \n",
       "4              1  \n",
       "...          ...  \n",
       "7336           0  \n",
       "7337           0  \n",
       "7338           0  \n",
       "7339           0  \n",
       "7340           0  \n",
       "\n",
       "[7341 rows x 11 columns]"
      ]
     },
     "execution_count": 3,
     "metadata": {},
     "output_type": "execute_result"
    }
   ],
   "source": [
    "reviews_dataset"
   ]
  },
  {
   "cell_type": "code",
   "execution_count": 4,
   "id": "1f3af88d",
   "metadata": {},
   "outputs": [
    {
     "data": {
      "text/plain": [
       "Index(['user_id', 'book_id', 'review_id', 'rating', 'review_text',\n",
       "       'date_added', 'date_updated', 'read_at', 'started_at', 'n_votes',\n",
       "       'n_comments'],\n",
       "      dtype='object')"
      ]
     },
     "execution_count": 4,
     "metadata": {},
     "output_type": "execute_result"
    }
   ],
   "source": [
    "reviews_dataset.columns"
   ]
  },
  {
   "cell_type": "markdown",
   "id": "6ce5afb3",
   "metadata": {},
   "source": [
    "# Drop unwanted columns"
   ]
  },
  {
   "cell_type": "code",
   "execution_count": 5,
   "id": "68801afa",
   "metadata": {},
   "outputs": [
    {
     "name": "stdout",
     "output_type": "stream",
     "text": [
      "       book_id  rating                                        review_text\n",
      "0     18245960       5  This is a special book. It started slow for ab...\n",
      "1        16981       3  Recommended by Don Katz. Avail for free in Dec...\n",
      "2     28684704       3  A fun, fast paced science fiction thriller. I ...\n",
      "3     27161156       0  Recommended reading to understand what is goin...\n",
      "4     25884323       4  I really enjoyed this book, and there is a lot...\n",
      "...        ...     ...                                                ...\n",
      "7336   6366110       5  This is the third book in Sanderson's Alcatraz...\n",
      "7337   1166599       5            Egwene al'Vere is awesome. That is all.\n",
      "7338   1268479       5  Just to say two things about Warbreaker: \\n 1....\n",
      "7339    140974       3  ** spoiler alert ** \\n My main problem with th...\n",
      "7340     13891       5  Winter's Heart is a lovely interlude between t...\n",
      "\n",
      "[7341 rows x 3 columns]\n"
     ]
    }
   ],
   "source": [
    "columns_to_drop=['user_id','review_id','date_added', 'date_updated', 'read_at', 'started_at','n_votes','n_comments']\n",
    "reviews_dataset=reviews_dataset.drop(columns_to_drop, axis=1)\n",
    "print(reviews_dataset)"
   ]
  },
  {
   "cell_type": "code",
   "execution_count": 6,
   "id": "3592a7de",
   "metadata": {},
   "outputs": [
    {
     "name": "stdout",
     "output_type": "stream",
     "text": [
      "7341\n"
     ]
    }
   ],
   "source": [
    "print(len(reviews_dataset['review_text']))"
   ]
  },
  {
   "cell_type": "markdown",
   "id": "dc381703",
   "metadata": {},
   "source": [
    "## Cleaning the texts"
   ]
  },
  {
   "cell_type": "code",
   "execution_count": 7,
   "id": "7d0df2ed",
   "metadata": {},
   "outputs": [
    {
     "name": "stderr",
     "output_type": "stream",
     "text": [
      "[nltk_data] Downloading package stopwords to\n",
      "[nltk_data]     C:\\Users\\LENOVO\\AppData\\Roaming\\nltk_data...\n",
      "[nltk_data]   Package stopwords is already up-to-date!\n"
     ]
    }
   ],
   "source": [
    "import re\n",
    "import nltk\n",
    "nltk.download('stopwords')\n",
    "from nltk.corpus import stopwords\n",
    "from nltk.stem.porter import PorterStemmer\n",
    "corpus=[]\n",
    "for i in range(len(reviews_dataset['review_text'])):\n",
    "    review=re.sub('[^a-zA-Z]',' ',reviews_dataset['review_text'][i])\n",
    "    review=review.lower()\n",
    "    review=review.split()\n",
    "    ps=PorterStemmer()\n",
    "    all_stopwords=stopwords.words('english')\n",
    "    all_stopwords.remove('not')\n",
    "    review=[ps.stem(word) for word in review if word not in set(all_stopwords)]\n",
    "    review=' '.join(review)\n",
    "    corpus.append(review)\n",
    "    "
   ]
  },
  {
   "cell_type": "code",
   "execution_count": 8,
   "id": "5b48ae67",
   "metadata": {},
   "outputs": [
    {
     "name": "stdout",
     "output_type": "stream",
     "text": [
      "['special book start slow first third middl third start get interest last third blew mind love good scienc fiction push think thing go hugo winner translat origin chines made interest differ way thing read instanc intermix chines revolutionari histori kept accus peopl reactionari etc book scienc alien scienc describ book impress book ground physic pretti accur far could tell view spoiler though got fold proton dimens think make stuff interest think though would happen seti station receiv messag found someon person monitor answer signal side disillus part book bit dark would like think human reaction discov alien civil hostil would like ender game would band togeth like book unveil trisolaran cultur game smart way build empathi also understand gone across mani centuri know bodi problem unsolv math problem still get made game mayb come next book love quot long histori scientif progress mani proton smash apart acceler physicist mani neutron electron probabl fewer hundr million everi collis probabl end civil intellig microcosmo fact even natur destruct univers must happen everi second exampl decay neutron also high energi cosmic ray enter atmospher may destroy thousand miniatur univers hide spoiler', 'recommend katz avail free decemb http www audibl com mt ellison', 'fun fast pace scienc fiction thriller read night put book quantum theori mani world state decis make throughout live basic creat branch possibl path decis tree thought parallel world book someon invent way switch world nice allud foreshadow quot think choic made creat moment us sit togeth beauti tabl think possibl event could stop moment ever happen feel know fragil becom thought moment say final terrifi consid everi thought everi choic could possibl make branch new world view spoiler book discuss without spoiler book choic regret ever regret not chase girl dream focu career well jason made choic regret clearli author tri tell us optim happi second rate physic teacher commun colleg mean happi life snarki certainli someth also mean life come within thought book littl shallow dimens fact charact fairli shallow daniela perfect wife ryan perfect antithesi jason amanda perfect loyal travel companion etc plu fact book weak scienc led take star still read could go back time fun engag read want realli minim regret live life avoid first place regret hack kind point book favorit book regret remain day realli like visual decis tree though power concept everi moment everi breath contain choic life imperfect make wrong choic end live state perpetu regret anyth wors built someth could actual erad regret let find world made right choic daniela say life work way live choic learn cheat system hide spoiler', 'recommend read understand go middl america possibl better explain trump http www npr org', 'realli enjoy book lot recommend drag littl end knock star overal wow book stori starship sent tau ceti nearest star earth analog planet colon journey take gener stori told rd th gener one reach tau ceti stori purpos purpos affect behavior stori polit peopl first cool thing book rich world ship intric larg design ambit shepherd peopl much time printer print almost anyth imagin even dna printer littl goe lack recreat thing make book brilliant ship ai control ship narrat book end observ human languag brilliant start astut observ human languag imprecis reli heavili metaphor analog remark start reflect true hear ai reflect perhap provision solut epistemolog mess locat phrase phrase cours precis announc analog reflect admittedli halt problem jump someth quit suggest power formul someth specif human possibl formul deep diagnost human cognit tell say mean thing tell giveaway infinit black space ignor stand basic oper cognit mark perhap conscious human languag made sens basic bunch pattern matcher tri match thing seen new thing match perfectli matter match help us bucket organ new inform incred fuzzi ai also make hilari observ like inde said percentag old human say proverb actual true far percent seem may less import true rhyme show alliter like goe around come around realli mean analyz chatter earth whini cultur find listen ai tri reason also interest programm mind especi love discuss mean life realli nail program person object purpos mean organ principl exist troubl mean organ thought action subroutin purpos mean hard problem inde project trip back solar system project labor love absorb oper entir gave mean exist great gift end think love give say mean obviou mean found univers far tell conscious cannot discern mean exist troubl deep troubl point organ principl end halt problem reason live love found mean hard problem view spoiler review focus lot ai not main thrust book war stayer leaver polit tension slinghot maneuv get back make book worth read surfer love end freya find mean surf wave hide spoiler', 'beauti stori rare encount book good job paint scene mind realli felt like got know charact peopl came across gener love wwii book movi sure like one featur blind girl young nazi radio oper bring lot life said novel drift around lot plotlin jump forward backward time drove nut thought lot theme book one diamond realli curs base hope diamond perhap anoth k leagu awesom book think book lot fear unknown peopl deal mari laur blind tell happen around yet bravest one werner afraid end miner drove join armi learn radio uncl etienn afraid die sniper see leav hous creat radio transmitt moral stori paralyz fear realiz basi fear fear light powerless stop turn usher bullet mark', 'star give better framework organ stuff stuff keep ever instanc free realiz keep gift', 'numer peopl publish told book year', 'anoth hard put nonfict book erik larson realli enjoy book mostli learn submarin warfar wwi also learn histori time america enter war import ship england ruthless autonomi german u boat command larson also great job layer interest histor info though overdid littl bit one drama stori lusitania larson focus british want lusitania sunk help draw america war conclus seem case though conclus evid lusitania sank american die war hundr american boat sank definit help chang america attitud even took year sank america troop arriv like explan inde plot howev imperfect endang lusitania order involv unit state war favorit detail book simpli took navig u boat ww instanc day sonar submarin travel utterli blind trust entir accuraci sea chart one great fear u boat men half sunk derelict unchart rock might lie path crazi plu torpedo weigh thousand pound boat could carri failur rate someth like also limit fuel oper batteri submerg could stay underwat limit amount time given tri oper u boat sink boat pretti danger sound game chess certainli effect war one point britain estim would surrend month get suppli lot interest detail era larson wove interest well stuff like fact ouija board commonplac american household straw hat day main critiqu mani irrelev detail variou passeng happen day boat left dock stuff like felt bit pad respect overal great read', 'love stephenson anoth hit absolut love great thing good stephenson book make think futur new way book except realli two book certainli see second one come start modern time someon blow moon time find within year fragment moon caus worst asteriod shower earth ever seen wipe life earth time send peopl space stori use robot throughout book fascin stephenson clearli look year futur correctli predict go robot worker space nano bot nano robot weapon get vivid portray robot might part futur live thought focu use whip technolog space interest cours whole notion cradl cool though not sure feasibl', 'beauti stori neil gaiman truli uniqu storytel combo read listen stori neil great read well got interest book see movi realli enjoy book similar mayb bit poetic think plot movi bit improv not much bit imagin book came neil read poem includ begin invent plot around result book read like epic poem creativ magic realli right go catch fall star get child mandrak root tell past year cleft devil foot teach hear mermaid sing keep envi sting find wind serv advanc honest mind thou st born strang sight thing invis see ride ten thousand day night till age snow white hair thee thou thou return st wilt tell strang wonder befel thee swear live woman true fair thou find st one let know pilgrimag sweet yet not would not go though next door might meet though true met last till write letter yet fals ere come two three new favorit quot unavoid detain world expect us see us', 'put book well written even eleg way well though provok love post apocalypt book great canva human matter station eleven ebola esqu viru georgia flu knock world popul stori told half right collaps half afterward sever thread tie togeth nice read civil infrastructur die collaps fascin one one cabl tv internet water power eventu stop work nobodi aliv maintain even know infrastructur like gasolin power car airplan groceri gun even cloth becom rarer rarer commod realli make realiz much stand shoulder hundr year progress knowledg far middl age could easili fall realli know noth individu civil base upon collect knowledg billion motto book probabl quot surviv insuffici human crave surviv crave someth life stori follow caravan actor musician travel town town play shakespear bring art share experi interest artist past year shakespear one surviv still reson three caravan travel symphoni label travel symphoni letter white side lead caravan carri addit line text surviv insuffici surviv might insuffici told dieter late night argument hand shakespear storylin pre collaps follow arthur three wive interest say much arthur wive paparazzi turn jounalist turn paramed turn doctor jeevan seem search mean live iron jeevan seem find becom doctor collaps also glad not hollywood celebr convers arthur jeevan arthur want talk anyth stuck sometim sick talk regardless think book one thing sure put walk around world full newfound appreci gratitud everyth hope appreci gratitud stick around littl though know fade month year go ps cool', 'fun seri love wool dust shift gave us backstori explain world end think first book far best gave us nice conclus view spoiler conclus want see peopl final get outsid problem book lot hole lot review point not sure fact know self publish bias say could use edit feel way littl write great lot thing clear never realli fulli made sens major one thurman realli felt need destroy whole world feel like could lot also clear realli accomplish nuclear nano nuclear world realli wasteland whatev happen silo silo went dark kind expect alreadi broken outsid would wait perhap alreadi went sea hugh tell us stori later happen silo silo one destroy power server room probabl provid stuff includ guidanc silo head make year mysteri silo dead bodi top rot never realli explain guess kept whole heal nano felt like stori understand anna come back life thurman could kill donald not love stori juliet kyle donald anna etc end sadli want one happi one hide spoiler anyth think book hope resili jule donald even solo perfect suffer lot thing kept go hope better life determin keep aliv determin defin admir hope gave drive hope power necessari part human psycholog', 'recommend david risher', 'classic dystopian novel publish still relev even trend due polit climat like unfold learn state world happen piecem throughout book think atwood describ front nearli compel book seem kind warn describ futur state chill depress yet point chillingli possibl describ societi reason never quit learn might radiat steril remad one everyon basic freedom choic one opposit pleasur poverti evil elimin system chillingli women almost right book main charact hand maiden role bear children person seem purchas acquir purpos even proper name anymor call offr properti fred societi die said aunt lydia much choic lot book explor theme like would like take away basic freedom choic also abil relationship other chill depress much valu modern societi freedom yet know much choic paralyz mani peopl want leader situat simplifi decis make might sound like balanc not abil make choic especi bad choic actual crucial develop better never mean better everyon say alway mean wors insight sentenc impli command thought make societi better not wors overal yet clearli everyon book includ command sound better miss mark big experi gone wrong regardless today world sentenc perhap applic live usual ignor ignor ignor work noth chang instantan gradual heat bathtub boil death knew', 'mark watney steeli eye missil man man man badass mechan engin botanist astronaut strand mar nasa mission gone wrong left fend listen audio roadtrip flew fun stori not surpris made movi direct ridley scott star matt damon also pretti amaz self publish two great thing book humor scienc scienc appeal mechan engin watney bit like mcgyver except know lot chemistri botani doubl check scienc love descript math calori calcul creat water etc fun stuff humor top notch weir great job portray strand man tri remain upbeat talk log entri excel audio narrat made better start day nothin tea nothin tea easi make first get hot water add nothin ye cours duct tape work near vacuum duct tape work anywher duct tape magic worship live anoth sol would awesom name jame bond movi end well told stori surviv odd one belief like cnn mark watney watch could total imagin stori media would get human love good surviv odd stori', 'amaz uniqu creation jj abram doug dorst creat read like classic work fiction someth easili imagin read english class wrote intrigu side stori margin grad student eric left annot copi sot ship theseu librari undergrad jen find repli annot lead make excit discoveri book also fall love first thing book beauti print look feel like classic book point peopl would ask read old book marginalia feel real imagin hard print one cool keep shelv complaint insert cool idea fall time point idea page suppos interest thing book blueprint peopl discuss book sometim discuss content book time use content jump point person discuss natur book show almost split key differ book geniu us reli memori start convers someon particular event passag book charact liter underlin phrase like relationship talk happen relationship moment one thing realiz later book ship theseu real thing ancient greek philosoph question replac part someth still object inspir ship captur sail mist time alway get fix need ship die seri ship found stori jen eric lot compel sot stori real charact could relat sot felt like book read english class bit obtus still understand get wrong pretti cool stori particularli enjoy theme like begin end water also lot straka regret fulfil mission instead live life true love kind like mission realli know found caught', 'tore pillar earth wait pick set kingsbridg centuri later stori lot similar element cathedr need repair brilliant young builder merthin love stori priorship grab cours polit manuev backstab evil church offici also like first one charact develop well book hard put yet deep book fun one thank good finish caus lose sleep enjoy learn plagu mediev idea health medicin amaz plagu wipe third human popul littl knew frustrat lack monk open learn new thing littl trust women instanc believ bleed solut everyth actual harm case also interest thing doctor instead nun monk etc serv role', 'circl new bay area compani realli googl facebook domin search social media huge sprawl campu south bay full intellig ambiti young employe stori think take connect natur internet might take us essenti discuss privaci vs open think seriou esqu warn open thought lot book kind shallow unrealist charact well develop imagin hr depart would get case not use social media attend brunch invit extrem believ suppos purpos author make point appreci point see love stori mark zuckerberg fairli public say believ open societi better one notion exactli one mae learn kayak incid whole life open friend famili hard anyth dishonest might regret premis circl privaci secreci bad take idea extrem doubt zuckerberg anyon els run social network ever contempl complet open motto say happen must known easi imagin us eventu live world like circl contempl public video camera everywher document everyth ton data photo video text avail search engin scan alreadi startup like dropcam enabl public video feed archiv atm build traffic camera everywher polic alreadi use heard anoth startup put video camera take photo everyth day creat montag day searchabl sortabl mani way alreadi start act like everyth least outsid home record camera think central question book pose one bailey contempl mae thing good secret privaci would world larg better secret known think know mr egger stand subject book seem written dystopian mock kind way interest thought experi mani secret would ultim better overal not necessarili disclos parti overal situat known exampl want tell friend know signific cheat b c suppos know ultim would better know think secret know secret cours lot secret stay secret ignor often truli bliss peopl often need weird express way not everyon would appreci open privat be yet digniti sens self worth larg stem other perceiv us think book thought provok stori show us societi chang', 'wife suggest read book resist impress somehow not wrong glad final convinc fun put got bernadett move seattl la abandon career architect kid hate seattl basic lose cours book book fun written light humor tone make fun seattl microsoft obsess parent seriou take love call parent gnat hire virtual assist india fun part book wacki bernadett realli make life fun right told girl bore go let littl secret life think bore well get bore sooner learn make life interest better', 'fun fast pace book suck right away let go remnant human live stori silo earth leav outsid toxic bit odd thing happen give us nice palett think thing everyth ration includ mani children peopl self identifi profess silo live farmer mechan lower mid profession class upper work class wear color code uniform easili distinguish book lot control control contain civil give hope eg live feed outsid yet keep harmoni function strang mechan control built silo commun oddli limit given resourc mani messag deliv courier email cost valuabl money send strang elev forc anyon want travel length silo spend day journey clean ritual strang bit cultur view spoiler upon reflect see necessari peopl never go outsid uncertainti still bad would creep peopl would need tri perhap happen silo hide spoiler realli like unravel bernard went repuls annoy understand understood role respons view spoiler role elimin doubt delic balanc silo open book doubt holston brilliant suck immedi hide spoiler like juliet right combo determin right brain grit', 'hilari romp known unknown univers expos ridicul much us copyright law written founder rhapsodi know thing two music copyright surround expect book entrepreneur funni book book not bad compar hitchhik guid noth approach not bad gripe would ton footnot attempt extend humor work basic premis book brilliant alien listen thu pirat music sinc without knowledg us copyright law state singl case intent copyright violat fine mean entir univers mani time debt human pretti ridicul music industri got big fine pass think one favorit part book learn law firm nick carter work see littl hood oper overal fun enjoy read', 'book great premis full beauti written prose hacker arab spring help peopl get around firewal state erect control popul alif fall love find ancient book get troubl state enlist help unseen magic world full creatur call jinn combat evil stori flow well fast fun read would given higher rate comput programm book hack descript alif code felt like watch one movi use bunch made visual noth hack prose around hack oddli descript know make instanc alif hack state intranet describ hand rous lumber feet reek ioniz air dri metal bone reveal level function alif not detect reel backward recalibr breach confin state intranet hand began attack base alif tower slice away layer code mirror protocol kind alif never seen know comput program could reek ioniz air conceiv mirror protocol thing could ever use slice away layer code view spoiler want hard bit quantum comput encod ancient stori code make sens heart stori ancient text contain power comput algorithm also troubl buy alif dina relationship charact felt shallow hide spoiler', 'fun dark slightli comic western two killer charli eli sister way california gold rush go mind killer strang experi not sure total enjoy realli enjoy author write clean fun even poetic made book quick enjoy read love introspect one liner eli kept throw instanc could not sleep without proper cover spent rest night rewrit lost argument past alter histori emerg victori thought man properli drunk though room physic impenetr separ fellow anoth miser mental imag catalog make room true thought live life effect word stung stole away stood long look glass studi profil line cut world men ladi struggl howev find point novel lesson meant take away learn charli eli adventur suppos anyth theme book transform view spoiler wit warm morri eli courag transform chang live word easi let life dictat path eli stori charli suck life crime fascin warm similar stori becam thief learn morri past see difficulti decis leav commodor employ hide spoiler take gut transform oneself especi better', 'wow amaz stori well told kept late night louie zamperini truli went hell came back inspir read stori willpow determin also interest learn japan role war one big takeaway cheap human life war think stat us airmen die accid simpli stagger love wwii stori one seen read focus germani realli know much japan treat pow pretti eye open read stat pretti much massacr hundr thousand pow cous stori detail also not follow geneva convent pretti much treat pow slave one favorit point author made best illustr quot digniti essenti human life water food oxygen fundament truth human author realli drew well take person digniti away take everyth away love stori pow defiant steal food suppli play joke etc littl bit defianc enough let take back digniti think that make compel pow relat basic need', 'hilari book tina fey definit worth listen audio read make fun lot add lot light humor cours share tmi interest bit hear behind scene saturday night live joke writer year gave role show news breakout occur alreadi left rock sarah palin imperson tina clearli exampl someon work long hard get', 'spoiler alert love epic saga continu poor stark torn apart yet surprisingli resili fact pretti much everi major charact danger die even bit tough read realli want king north succeed dani fast becom interest part plot yet intermix rest charact start next one soon book like crack', 'sound awesom', 'great stori us ambassador germani experi build ww noth new excit realli reveal sure mani account buildup ww one told perspect mostli ambassador dodd daughter martha stori engag well written thu interest think end fell pretti flat hope read nazi one cours alway appal got power commit atroc book provid clue hitler seem primarili will tell peopl need want hear even truth great storytel also use fear primari weapon mani germani not behind afraid make stand speak suppos climax book night long knive hitler arrest execut major oppon clear way absolut grip nation ruthlessli murder estim sever hundr peopl count never realli known play put rebellion much world bought mani year think one interest piec book watch dodd martha go think nazi good germani realiz terribl hope overthrown slow gradual process one sure not immedi obviou anyon end think book aptli name', 'spoiler alert interest book term structur distinct stori cascad subtl way wind back way structur uniqu certainli cool see subtl way tie togeth end kind gimmick probabl not necessari gener tri summar novel review case much go exercis help stori pacif journal adam ewe later reveal journal stori stori rather weak will protagonist constantli taken advantag other ship captain dr goos interest side stori peac nativ moriori tribe taken advantag stori robert frobish perhap favorit stori penniless young musician last ditch attempt apprentic old master musician vyvyan ayr stori told letter friend sixsmith appear next stori stori frobish apprentic goe overjoy job resent master use steal stuff robert sleep va wife whole stori end fall love daughter cruel twist fate stori luisa rey modern age stori young journalist hot heel big scandal involv energi compani sixsmith engin leak stori also letter stori classic detect esqu stori lot peopl will kill protect secret power stori timothi cavendish modern age stori book editor get smash hit author mafia esqu famili get case run land old person home prison stori kind nightmar reveal movi next stori stori somni one favorit differ set far futur asian countri human genet creat clone serv slave lower class regard unintellig control drug protagonist somni break becom self consciou scari thing easili see happen told recollect interview stori sloosha crossin stori zach ry meronym post apocalypt hawaii somni deiti stori valleysmen peopl struggl freedom neighbor tribe six stori graphic real extrem good charact develop mitchel could singl sentenc describ someon understood way describ wish stori theme common could say learn book though suppos put finger major theme freedom slaveri ewe control dr goos ship captain frobish becam unwil servant ari luisa rey need find truth order free corpor villian frobish prison bent escap nurs home somni liter slave societi focus freedom zach ry peopl captur enslav stori touch variou way peopl enslav control peopl variou reason suppos point human be greedi tri control human be strong surviv find way free sound good anyway stick interest hear peopl thought', 'stay finish book felt good great murder mysteri thriller interest set sweden deal journalist corpor hacker good stuff', 'crack final pick enjoy quick read put like crack bit bother lack backstori panem hunger game come kind explain away paragraph left accept strang world teenag pit arena year kill expect seen battl royal would appreci know backstori world could come odd state suppos make book like interest think strategi player go statist encourag band togeth last longer way definit cours partnership broken drama unfold alway interest full friendship broken betray charact approach game way band togeth larger coalit loner initi band togeth later loner like foxfac lot depend surviv skill could find food water self depend highli valu cours hero strong fun read feel kind dirti read', 'spoiler alert critic asid dan brown sure write thriller stuck airport book pick done day first half book realli grip promis big thing go learn secret mason ancient wisdom lost age sound cool want learn ancient wisdom end book fell realli flat villian predict learn noth ancient wisdom also say almost fell bed laugh dan brown plug twitter end book fair right peopl excit twitter along mani websit help caus shift societi help wonder year twitter myspac peopl read think wtf', 'great finish artagnan seri definit enjoy end want though could tell tri perman end seri could easili seen movi made want drama', 'spoiler alert equal love book definit hook feel took littl get sea guess bring love interest land favorit thing far live descript fast much care crew took keep crack ship pride great motiv also love jack made work gun batteri practic', 'read bunch bond book high school read one sinc realli enjoy one rememb differ movi though main player scaramanga goodnight felix leiter still midget bond book simpl yet somehow still compel way flem wrote bond seem much human suscept yet determin focus movi seem superhuman think daniel craig movi actual bring aspect bond back littl bit event greatli enjoy duel scaramanga bond', 'engin help love book full logic game rule robot rich medium lot fun puzzl much enjoy read think book origin came serial form broken short stori caper kind remind sherlock holm anoth favorit mine examin robot also gave canva defin human love robot religion stori robot superior complex thank good first law would termin style stori accord asimov predict robot revolut full swing see lot robot around anyon good predict robot pet robot robot labor', 'one enjoy stori read time captain jack aubrey fascin charact want succeed captur spanish vessel gain respect men gain respect admir book set napoleon war interest see king ship noth glorifi pirat captur vessel could open sea book also strongli remind sail lesson last summer still look lot word rememb one like leeward abeam make want go sail', 'love everi minut sad anoth thought jk realli made harri even stronger archetyp hero almost paul maud dib dune kind way fight ultim evil brave take risk believ give despit mani hardship think jk realli phenomen job bet everi kid read littl bit hero gryffindor epilogu lame though would rather seen month later epilogu year later one', 'great book worth read like mani gladwellian book sum easili basic point thing true outlier success seem due primarili hard work circumst brain play littl part gladwel went sever fascin exampl prove thesi peopl bill gate joe flom skadden oppenheim fail geniu name chri langan two thing common spent hour fortun circumst let get ahead everyon els bill gate smart lot geek advantag comput age came possibl year old countri access comput spent time time hit colleg well hour comput time arguabl one foremost expert countri one favorit bit music studi page compar musician find natur skill musician compar amount practic equal kind valid hear mani us feel natur smarter peopl us appar true think person experi agre harder work better one big takeaway circumst chang thing hockey leagu studi elementari school studi fascin relev basic kid older third class hockey leagu natur advantag realli littl kid make star get extra coach practic thu becom better time older held back pre school one oldest class definit think help hmmm plan kid born oldest', 'read hear peopl among time favorit almost put saw stori rabbit origin written tale father children glad found folk tale el ahrairah impress author clearli vivid imagin creat much rabbit cultur histori think book worth read realli stori surviv leadership human natur oh fiver rock bigwig man', 'star realli enjoy found kind random lead nowher said imagin entertain hrun barbarian one favorit anyth luggag', 'spoiler alert finish say realli enjoy kind worri plot go anywher much write realli good drew much book thought main charact richard weak charact like much like grew confid toward end think anytim one undertak adventur journey like grow much get fail time confid know succeed also say love mister croup mister vandemar dialogu interact hilari realli remind mister wint mister kidd jame bond diamond forev', 'seven amaz stori one think possibl top last never realli get understand time tomb guess keep read strength stori worth one best book read', 'highli recommend curiou manic depress diseas fascin even well written insight woman psychiatrist treat suffer brave poetic write book', 'love book', 'spoiler alert absolut love first book think seri finish strong would like mani plot hole thing make sens mayb suppos children book like thing like harpi easili convinc chang side god easili trick littl flirt lyra suddenli easili lose daemon two kid make love save univers hand book make think suppos religi idea probabl best challeng children book like dant inferno esqu descript world dead pullman descript angel role brilliant also descript thing evolv differ differ world interest particularli mulefa world descript gallivespian usual not tragedi fan think lyra separ end romant appropri end', 'love everi second want end find book store buy next two harri potter read level similar type fantasi stori sometim that need long flight nyc holiday think child daydream altern world love that basi book think permut thing could turn differ kinda fun think daemon would hope settl lynx', 'loan diana sonn', 'would hate see movi without read first', 'not sure love khale charact see review kite runner man tell stori think american need read book help understand sympath peopl afghanistan gone particularli interest book span year paint graphic pictur afghanistan chang time russian communist warlord taliban us armi shortag invad war victim khale leav littl miseri death also focus life invari alway find way littl sad like think thing like read book area world feel like gotten know tini bit', 'quick read probabl better da vinci code', 'realli enjoy book concept man grown mar never seen anoth human twenti fun idea rich canva watch mike tri grok human gave heinlein great opportun point fault advantag think favorit part book word grok would bet deep discuss true mean word contend closest mean english enlighten someth grok god reach enlighten grok music truli understand way mozart understood grok anoth person love grok program truli love realli good program also probabl pretti big nerd use word like grok use front girlfriend still forgiven sinc explain martian word one thing grok ye go keep use dammit finish book kind manifesto free love aliv given everyth know movi book etc seem grok right', 'great book sci fi classic fact gibson wrote impress make mani predict seem like come true predict', 'well melani say bbe gotta check', 'great book galileo perspect daughter', 'despit name sound like chic book pretti sweet western novel thoroughli enjoy', 'sometim need quick fun book read easter weekend love everi second love movi book better book realli intellectu make one interest point book vote gone graduat militari train prevent uneduc uncommit citizen vote bit extrem might opinion barrier vote like standard test otherwis elect end market contest name recognit huge market would w otherwis would hilari chanc', 'steve recommend must good', 'read went fli fish first time pure gold fantast stori', 'one favorit grisham movi good cours not good book', 'read good spi novel great one truli well written amaz stori given short book tore one day realli dove like spi world world le carr mention sever time novel rule best countri play kind game moral thrown window murder traitor disloyalti ok name great good oper live world hard time come cold laema descript laema go person go piec order get thrown jail get recruit german impress basic pretend becom alcohol start suck job ostrac friend anyon met hit total rock bottom thrown jail impress not someth think peopl could spi world interest one issu unmor spi world liz laema love interest main issu event laema harden still look greater good angl though peopl kill end win london interest last line novel think kid almost ran car though want get back place normal rule appli', 'mayb not good time get love mice men though', 'classic la detect novel love open paragraph say eleven clock morn mid octob sun not shine look hard rain clear foothil wear powder blue shirt tie display handkerchief black brogu black wool sock dark blue clock neat clean shave sober care knew everyth well dress privat detect ought call four million dollar', 'spoiler alert book may well call one hundr year inbreed human drama basic stori small town gene pool small everyon marri relat seem like life spiral downward control year realli enjoy author abil bring crazi charact life explain stori behind one quirk strang behavior book start realli strong stagnat bit way love end also thought inclus magic element throughout stori interest fun twist melquiad scroll float priest etc accord wikipedia call magic realism think movi tv show produc seem common plot element nowaday', 'read classic twice high school hard like book read high school one stood tell anymor', 'man wish read yet could enjoy', 'book pure delight subtitl adventur curiou charact spot feynman gave amazingli human honest view philosophi take life thought seri stori one thing struck deepli passion learn new thing would think world famou physicist would passion physic feynman curiou everyth saw dabbl art success enough show join brazilian bongo group compet hung vega grok gambl spent time strip bar arizona figur pick women crack safe lo alamo fun list goe take passion also hobbi think need new hobbi realli enjoy lesson learn observ brazilian educ system note mani student simpli memor word formula understand concept appli think not uniqu problem educ anoth lesson learn feynman studi scienc never take data grant alway alway question sourc whenev feynman experi would gener mani number even publish place mani thing not scienc stand shoulder giant easiest way led astray result never right begin think feynman heart true educ scientist real integr think drove nut mani import decis made use unscientif principl book light heart attempt point not mention entertain read', 'friend elizabeth met parti said great primer understand philosophi', 'book pure gold imposs put clear see classic watch holm appli method case unravel eternali baffl watson entertain even inspir wish smart sherlock actual think learn lot sherlock even fiction interest thing learn sherlock say elementari sherlock cocain bore case guess big deal back one caper delv histori mormon interest', 'one time favorit ultim reveng stori one fascin aspect think back day novel appear seri articl newspap franc', 'see movi like need fun read vacat perfect like jacqu love explan baccarat mental imag vesper lynd book much prettier actress movi fleme bond much connoisseur movi bond take great care describ detail thing enjoy particularli cigarett food wine car', 'read backpack europ colleg fascin insight spanish cultur anyon go definit read', 'know book suppos evil horribl inaccur lot fun read still give star sorri jacqu', 'huge jame bond fan alway read bunch book back high school miss one love book much movi fleme bring charact life differ way movi human vulner plu alway interest see differ plot movi book one instanc space station jaw plot popul planet super race millionair drax evil plan count', 'love book agre elizabeth movi close someth nichola cage tri italian accent', 'one top favorit read deeper figur life moment give strength inspir', 'listen tape road trip thoroughli enjoy', 'realli good book read like bestsel quick read lot substanc stop make think three rule tip point law sticky factor power context law peopl influenc connector super connector eg paul rever william daw mission paul rever night heard b c paul rever super connector knew rous maven maven person inform lot differ product price place person like initi discuss consum respond request like helper marketplac salesmen peopl skill persuas good read peopl enter convers harmoni facial gestur nod smile frown key indic emot mimicri studi show peter jen viewer vote republican b c unconsci smile cover reagan sticky factor sesam street succeed b c learn make tv sticki ton test focu group kid increas sticky much kid rememb show would cut scene hold attent show good blue clue even test discov kid love repetit play show time row kid love make messag person make memor power context broken window theori nyc clean crime epidem clean graffiti subway often chang human behavior chang context problem present stanford prison experi zimbardo prove context matter law person know peopl compani usual start fail point gore tex break compani hit found thing work better way', 'read first time still one favorit book geek heaven cryptographi world war ii code break nazi gold modern day internet begin tie togeth one master stori also larg lost suspect mani gener second world war least greatli acceler great part due fact crack german japanes code learn effort bletchley park dr alan ture huffduff crib etc fascin think funniest part book page stephenson actual graph product waterhous recent sex product not product code break cryptographi not stuff know ton modern day programm larg worri stuff good remind think brain nearli enough avi randi paranoia tendenc encrypt everyth hard drive email may overkil hand also may wise rememb get email peopl use public privat key encrypt email not last year mayb request gmail lab add theme book cryptographi everyth defin second world war also defin modern internet inform king not larg cach gold', 'realli interest novel take place futur world peopl live metavers aka digit univers internet real world rememb well rememb realli interest tie in ancient sumarian comput plu book protagonist name hiro protagonist wield badass japanes sword badass note metavers current built http secondlif com', 'best harri potter book far follow close book', 'first read book worst one harri potter seri charact not likeabl book howev recent reread read book found good read', 'queen common gah heart book everyth one best second chanc romanc ever read kennedi johnni fell love high school johnni natur gift actor left famili behind follow dream becom actor kennedi ran away hollywood give dream follow real life brutal intrud kennedi left johnni got first big break quickli got lost throe addict hollywood parti scene broken heart pregnant kennedi return home begin new life without johnni know girl need hous even need apart would slept car complain sell grate alreadi feel guilti worri scare stori triumph believ world alway kind good peopl sometim eat aliv johnni grew wealthi abus household act escap choic get away famili way could never realli left demon behind world famou superstar want make amend kennedi madison daughter never knew deserv time not least desper part woman back steal everi second get kennedi gave everyth madison gorgeou smart funni littl girl kennedi work dead end job struggl make end meet still love johnni hurt mani time year emot read book everyth love second chanc romanc write clever creativ complet engag fell love johnni littl madison book heartbreak sexi funni heartfelt complet uplift whatev glad sober hope stay way maddi sake yeah deserv know dad sake know never enough jonathan hope find someth stori perfectli balanc hero heroin point view ador stori kennedi johnni first met fell deepli love lot steami scene well right amount humor balanc emot stori stori grip first page glu page end also love kennedi loyal strong smart self suffici not need porsch red carpet mansion want johnni abl follow dream wherev take ghost anoth must read book jm darhow one favorit book year thank k thank give second chanc say third forth fifth twentieth laugh lightli twentieth twenti first tell draw line somewher', 'addict star easton royal superfici interest good time want look deep see bottomless black bore pool nothing want live bliss denial not fan top drama crazi plot imagin delight read fallen heir almost one sit addict funni fast pace book might favorit seri far easton royal high school senior exclus astor park prep school fill ultra rich student complet trust fund design cloth huge mansion easton flirt partier set sight new girl school hartley complet opposit part fun book hartley not interest bad boy easton settl friend zone need treat friend real give shit need nake care friend book not read standalon contain spoiler earlier book glad stuck seri love easton stori good heart realiz parti get hand especi son mother sever addict issu fell love easton heart broke one drink crap stand want spend minut life alon head bad bad place realli felt connect easton hartley love support charact fallen heir crispli written juici stori perfect fan contemporari young adult book book click love funni easton humor satir stori need might small lung capac whale move gonna releas oral kraken entir school hallway rescu crack oral kraken sound pretti dirti think everyth sound dirti say dryli nook end major cliffhang not surpris fan seri wow never fear anoth book come januari realli enjoy book highli recommend look smart witti young adult stori design flaw royal famili one quit like other one crash burn often not arc provid return honest review', 'promis love forev long love world part sweet fill ton romanc real emot read spoiler book glad know anyth rene carlino book alway captiv swear life one time favorit stori say adam definit favorit thing book sigh adam one memor charact ever creat ms carlino impuls sweet charm creativ love realli put meet charlott not alway fan insta love work charlott open heart adam seem well absolut perfect absolut enchant adam could understand charlott fell life funni way work thing turn quit charlott expect definit someth adam right begin put finger stun beauti love everi second sorri like hurt go paint paint us need never forget sacr stori took lot twist turn definit one not expect charlott terribl luck relationship let say adam not turn everyth expect imagin nonetheless still feel like one love life even though spent short time togeth life move charlott get back date scene meet ador seth minor leagu basebal player realli like quit forget adam seth patient sexi athlet funni smart around wonder man charlott move brief time adam like alreadi knew like met previou life memori exist began explod mind like firework love romant bittersweet stori fill wonder life lesson heal love also ador charact not love triangl although love read spoiler one enjoy book much go blind conclus love alway rene carlino stori sorri see one end want know grate grate got experi life think measur time think measur time adam love charlott arc provid publish return honest review', 'kinki star eve dangerfield continu delight verrrrrrri kinki total filthi stori also manag funni heartfelt utterli origin highli recommend everyon weird kate perfect kind weird ye book daddi kink oh perfect eve dangerfield write smart funni nuanc charact make stori readabl kate young profession hidden sexual fantasi away shame focu current obsess boss ty year old gruff sexi former firefight push button obsess even origin everyon crush tyler henderson women gay men straight men percept anim like crush hemsworth brother made basic hell think ty stand bare stand room never speak call work nicknam gener around grouch actual perfect see ty alway crave lg kink also hidden away shame settl unsatisfi relationship make feel empti want ty think middleton great girl thought middleton pain ass waltz around shini hair long leg throati voic cuter fist button get book fill much hot hilar dirti talk believ read stori engag fell love ty first page letter write kate omg faint ty kate perfect togeth kate brave enough honest ty feel love accept want never waver ty anoth stori deni true desir felt shame want want fuck pretti employe biolog want cherish someth els someth much wors book refreshingli funni balanc incred steami passion scene eve dangerfield fearless love kate far perfect perfect ty way ty glare think funni middleton ye well see fuck funni ass fire book set australia fill slang look phrase pleas read book descript not sound like cup tea not read one enamor lg kink mean read act age pure growli alpha male good wait see eve dangerfield dream next middleton share graviti would pull back toward sure moon pull ocean tide arc provid author return honest review', 'place could right time colleen hoover top auto buy list without question return young adult stori without merit merit voss teenag girl addit normal angst young adulthood live unconvent household perspect famili plain weird one seem get along poignantli one realli seem notic merit almost seem like afterthought say certainti live unusu hous whole town say hous certainli not home insid hous seven unusu occup one would abl determin outsid hous famili seven includ atheist home wrecker ex wife suffer sever case agoraphobia teenag girl whose weird obsess border necrophilia cours merit classic unreli narrat slowli truth famili emerg colleen hoover know treat delic subject great digniti care make entir cast odd charact sympathet likabl even though may think opposit first merit decid stop attend school one seem even notic skip school meet cute guy share earth shatter kiss merit actual twin sister name honor cute guy actual sagan twin boyfriend seem though sagan might thought kiss honor merit angri surli seem make mani friend offend sagan start eat meal famili basic move could happen confus two thing one constant repeat presenc honor boyfriend breakfast tabl two fact everyon seem know well perfectli fine join famili convers merit eventu uncov hard truth famili past also becom clear honor not perfect person first think like colleen hoover charact merit unforgett must make hard choic famili sagan sagan say mean thing loud mayb product rais mayb kind saint angel brought earth test moral love messag book stori beauti charact feel real flaw relat descript small town texa seem spot fan colleen hoover devour stori hope new reader pick one see reader devot write uncondit love loyalti forgiv heavi topic ms hoover serv perfectli not everi mistak deserv consequ sometim thing mistak deserv forgiv arc provid publish return honest review', 'star would romant drunk skunk dial die hard penelop ward fan devour book one start strong love premis stori ugli duckl rana find childhood friend landon onlin drunk one night call unleash year pent frustrat rana grew poor michigan famili rent apart landon famili forc suddenli move young lost touch former best friend landon howev truth turn littl differ rana told landon begin talk phone becom clear strong feel penelop ward queen second chanc romanc well creat sold backstori charact quit feel connect rana landon mani reader love one definit give tri stori valuabl messag self esteem forgiv sexi time incred hot would like littl build full blown relationship landon rana fall love landon like ms ward main charact simpli unforgett hand may callous arm may ink may look danger landon gentl protect drunk dial light sexi stori deliv hea not favorit penelop ward book nonetheless enjoy read love second chanc friend lover storylin sexi passion often funni book lot emot enjoy landon roderick know stori lot like rubik cube colour complic took year work suddenli like magic random sunday everyth came togeth arc provid return honest review', 'love sweet verrrri sexi low angst romanc book vi keeland penelop ward cook anoth readabl yet super hot contemporari romanc dr simon hogu sexi british physician meet singl mom bridget cutest way possibl singl bridget widow nurs not much social life simon gorgeou doctor interest relationship ton humor sexi talk hotti british doctor not love embarrass meet cute simon bridget end rent room home order make end meet not perman simon us complet resid back britain love teas bridget attract mutual propos deal string attach sex relationship leav author put fresh spin friend lover trope sexi entic not much angst storylin fast pace engag bridget want son get attach simon care not get attach simon soon find fall love bridget son sexi blond god doctor masturb week fish hook incid roommat swooni romanc lot heart ton heat author alway throw twist dramat tension work perfectli letter write cute addit love funni charm dirti talk brit anoth passion sweet heart warm stori great write duo proof hook begin luv arc provid return honest review', 'star first book jeannin colett realli enjoy noth top sweet sexi small town romanc featur one hot cop feisti heroin leah determin bar work love aspect book author also seem wick sens humor show funni banter hilari matthew mcconaughey refer leah lost first love overdos also happen adam best friend adam rigid book policeman seem determin punish leah past mistak adam charit gorgeou kind protect made mission life rid town narcot leah sentenc commun servic adam supervis spark begin fli even though set midwest stori almost sassi southern feel reminisc abbi gline harper sloan earli book love blue collar hero luke fit bill perfectli adam cold harsh downright mean much stori leah begin break chemistri two hot hot hot applaud ms colett strong sassi heroin absolut love leah parti girl earn respect everyon around wreck funni sexi small town romanc great way spend hour arc provid author return honest review', 'star ever lay eye promis best walk away next time fanci fast pace well written sexi romanc forbidden not much taboo romanc stori two peopl simpli meet wrong time anni come career driven architect time relationship never felt spark man jack anni meet one night bar fun night friend immedi connect jodi ellen malpa make seem real jack marriag long met anni might see bright line never cross jack instead seem sweet vulner crave intim connect anni one cannot believ found situat jack everyth never knew want would never put situat anyth less power love kind keep go kind give breath life jack life puls everyth stori would empti unconvinc hand less talent writer jem realli creat nuanc charact hard choic make noth black white stori got littl dramat near end nonetheless love book highli recommend hell heaven fli drown arc provid publish return honest review', 'first tast featur andrew singl dad slip tongu one favorit book stori standalon not featur forbidden romanc andrew complet opposit amelia boss sister total type workahol burn pain split husband go difficult divorc amelia andrew make clear start look one night stand string attach andrew not suffer lack women sure total hot busi ador daughter name bell rais complet honest start begin develop deeper connect emot relationship develop slowli even though wari get close amelia stun smart self suffici never million year think could ever fall man like andrew andrew daughter come first even becom obviou daughter would love fall love love andrew one actual start realiz fall love amelia want somewher along way becam worth threat pain come keep life not enough scare away fact threat competit stoke fire make want put fight first tast classic opposit attract stori fill real emot charact depth honesti jessica hawkin great write uber sexi men andrew not gorgeou tat give lover sexi time first tast without doubt steamiest around want undress stretch bed finger toe hair splay pillow want take handl anoth second love stori singl dad stori not pack much emot punch slip tongu still love stori way amelia andrew relationship grew develop fast sexi read incred talent writer wait read next ever mention feel reason smile like million buck arc provid author return honest review', 'grab bite twenti year old boy band circumst might ever constru accept love book sharp insight commentari modern cultur obsess celebr idea also fantast sexi romanc book realli robinn lee first book cannot wait see come next solen sophist year old divorc work mom find swept excit sexi relationship world famou hay campbel year old member famou boy band educ success gallerist divorc ex husband younger girlfriend world not take kindli solen relationship hay mainli year age differ love commentari ageism societi today public accept older man younger girlfriend frown upon older woman younger man dynam solen acut awar age differ enjoy awaken sort hay ah joy younger boyfriend start lunch soon becom much much want look moment look hour yeah tri not obviou come led dayb far wall pull onto lap could feel pant oh wonder twenti solen first tri hide relationship hay young daughter knew go disast daughter first not handl news well solen deserv happi struggl not ex husband reaction news also daughter entir time isabel across hall phone friend oblivi mother go rabbit hole face first one thing love book sharp look obsess celebr hay could not go anywher without mob even causal trip store buy shirt led mob scene use solen not stori made think everi headlin read celebr hay want solen know not idea hay tender sweet funni sexi much wiser year want kiss solen hand hair push face cradl neck ye nod think handl see robinn hill get locat right miami malibu manhattan pari felt experienc cafe club chic art galleri scream fan huge concert book realli check box simpli cannot recommend highli enough hard time move book would love sequel ye would also gladli welcom anoth book ms hill grab idea enjoy fabul time perfect beach read ador favorit quot make blush laugh tip head back jawlin angl well defin exquisit like art beauti like gift kept reveal love said not alway perfect not exactli expect descend upon control arc provid publish return honest review', 'star omg refresh smart fun swooni love book need favorit r grey book sinc score wilder look someth total light sexi book madelein ador quirki heroin tri best get life togeth somewhat unsuccess realtor ador giant dog name mous cute right love famili best friend daisi love life non exist doa new veterinarian dr adam fox arriv town good doctor come bitter break cynic not look love etc etc mous madelein crash life strike mutual benefici deal fake date arrang satisfi adam nosi famili buy hous madelein let hilar hormon ensu famili barbecu seriou not part deal technic agre anyth need thought ask lung someth prepar donat organ famili barbecu suddenli much pressur tri cute adam famili charm madelein sincer honest refreshingli real mc brought cooki ask eye tupperwar hand freshli bake morn brag turn shoulder adam follow us hous mous side love alreadi bask prais month hell recent much need repriev hell els fail mayb date adam mom fox hound delight sexi stori perfect amount humor heat love banter charact charm small town texa set swear r grey could tv comedi writer funni dialogu want take pair scissor loud highlight misplac scissor usual keep top drawer month ago instead forc stand hang daisi follow lori confer room pen paper hand first two arriv take usual spot besid helen chair pick spot opposit end tabl perfum strong chanel number five told brag oh realli smell like number two perfect read summer day weekend beach fell love adam madelein fiction set hamilton texa bravo ms grey keep write book like one slow sputter mouth fall chest swirl tongu around nippl eye pinch close know speed even', 'star beauti poignant yet violent spin nine minut seri lot unexpect twist turn love storylin origin plot even though familiar anthoni bear christi nine minut seri book realli explor relationship anthoni earli life could not wait book come sinc beth flynn special talent writer nine minut seri one time favorit biker romanc recommend anyon listen anthoni fighter face racism young age claw way top creat one fear success illeg busi west coast florida boss larg debt owe set collect kidnap daughter man owe christi chapman not expect anthoni preconceiv notion turn wrong christi judg anthoni first not quit pamper heiress anthoni thought surpris along way although finish book littl slow go time third person voic prevent realli connect charact said incred invent stori alway ador florida set beth flynn book color charact unflinch violenc add genuin feel plot hope book plan beth flynn cast charact first line read next book arc provid author return honest review', 'star life happen heartbeat space time first inhal last exhal dawn realiz eve never would unexpect refresh surpris book unlik anyth ever read pleas read spoiler author total blew away plot charact feel let say parker one favorit mc ever strong funni self deprec basic wait life begin chip shoulder blame everyon els posit much stori amazon prime offer life would one click hell select recur monthli deliveri book not think plot invent sexi emot pure jewel e ann book took rollercoast ride emot not want end parker find one situat swore would never funni life right despit best intent realiz life not black white shade grey famili mean everyth temptat longer resid blind spot live hundr yard away book funni steami plain real tri not give away plot book best read without know anyth stori charact anoth delight differ stori one best indi author write today pick life happen delight challeng entertain truth alway set free lie not alway decept arc provid author return honest review', 'captiv star truth replac silenc silenc lie yevgeni yevtushenko child haunt emot charact driven suspens novel also explor modern day obsess news angela newborn babi kidnap hospit room sever decad earlier babi never found angela husband nick carri devast loss angela never fulli recov bone infant found construct site sure bodi long gone babi alic kate brilliant newspap journalist uncov news stori old fashion way leg work research determin also featur author previou book widow go read love kate style book start tini bit slow pick pace middl thunder toward unbeliev shock conclus alway thought funni say let sleep dog lie sleep dog alway wake eventu emma marri univers professor mani year senior devast news build site babi appar tie angela famili emma difficult relationship mother jude seem two tri make peac emma grown marri emma secret devast everyon close reveal multipl point view execut brilliantli narrat uniqu voic vital stori child imagin surpris thriller write fill british slang custom ad enjoy stori mani twist turn book end far touch expect though would suspens novel conclus enorm satisfi highli recommend book thriller fan well anyon love great stori peopl say kill make stronger say someth terribl break bone leav everyth splinter held togeth grubbi bandag yellow sticki tape creak along fault line fragil exhaust hold togeth sometim wish kill thank publish review copi', 'sweet sexi stori highli recommend one fan ka book strong heroin stand alpha hero fast move danger love descript breathtak montana sceneri huge fan second chanc romanc one fit bill perfectli second book jamison valley seri center around nick jess friend book read standalon highli recommend first book fantast spoiler nick emmelin emmi marri la vega mani year earlier surpris meet unexpectedli mani year apart move small town nick gigi ask speak take eye emmi frozen like final emmi broke away sorri go mumbl race door know jess ask yeah knew wife delici slow burn aspect stori even though nick emmi still legal marri emmi boyfriend given ever find nick year search turn noth good reason reveal later book nick broke heart left impuls wed vega emmi nick two differ world path cross take teach job prescott montana nick sexi sweet alpha emmi resist despit incred tender romant gestur even though husband wife realli know fan small town romanc love book plenti action right amount heat although stori not wow factor coppersmith farmhous still race book absolut fell love charact obsess seri cannot wait stori charact ms perri obvious great deal love set show write clover chapel heart warm funni sexi adult romanc enthral entertain last word thrill third book seri lucki heart come august wait return jamison valley arc provid author return honest review', 'know much afraid terrifi time feel like could live happen us surviv anyth like realli afraid book much go bittersweet friend lover stori feisti relat heroin bad boy hero kyli scott one favorit author lick remain one top favorit contemporari romanc book reason stuck stori glad edi differ fiction heroin applaud ms scott ordinari girl get guy kiss john everyth well not everyth everyth die without want heart head rest without doubt made life better john edi experienc life chang trauma pretti much bond togeth one els understand went fate night conveni stori tough time relat teacher famili friend end attend high school love author say bulli fat shame teenag angst light heart moment stori well ms scott write ya novel first line said minor inconsist took stori bit seem aussi speak thrown american teenag use languag author use sweet funni sexi romanc kept turn page end yeah said obviou arc provid publish return honest review']\n"
     ]
    }
   ],
   "source": [
    "print(corpus[:100])"
   ]
  },
  {
   "cell_type": "markdown",
   "id": "41d02908",
   "metadata": {},
   "source": [
    "## Making the sentiment column as 1 for positive or 0 for negative using textblob library "
   ]
  },
  {
   "cell_type": "code",
   "execution_count": 9,
   "id": "9d89b867",
   "metadata": {},
   "outputs": [
    {
     "name": "stdout",
     "output_type": "stream",
     "text": [
      "Requirement already satisfied: textblob in c:\\users\\lenovo\\anaconda3\\lib\\site-packages (0.17.1)\n",
      "Requirement already satisfied: nltk>=3.1 in c:\\users\\lenovo\\anaconda3\\lib\\site-packages (from textblob) (3.7)\n",
      "Requirement already satisfied: tqdm in c:\\users\\lenovo\\anaconda3\\lib\\site-packages (from nltk>=3.1->textblob) (4.64.1)\n",
      "Requirement already satisfied: regex>=2021.8.3 in c:\\users\\lenovo\\anaconda3\\lib\\site-packages (from nltk>=3.1->textblob) (2022.7.9)\n",
      "Requirement already satisfied: joblib in c:\\users\\lenovo\\anaconda3\\lib\\site-packages (from nltk>=3.1->textblob) (1.1.1)\n",
      "Requirement already satisfied: click in c:\\users\\lenovo\\anaconda3\\lib\\site-packages (from nltk>=3.1->textblob) (8.0.4)\n",
      "Requirement already satisfied: colorama in c:\\users\\lenovo\\anaconda3\\lib\\site-packages (from click->nltk>=3.1->textblob) (0.4.6)\n",
      "Note: you may need to restart the kernel to use updated packages.\n"
     ]
    }
   ],
   "source": [
    "pip install textblob"
   ]
  },
  {
   "cell_type": "code",
   "execution_count": 10,
   "id": "cac42b30",
   "metadata": {},
   "outputs": [],
   "source": [
    "from textblob import TextBlob"
   ]
  },
  {
   "cell_type": "code",
   "execution_count": 11,
   "id": "1e6ea03d",
   "metadata": {},
   "outputs": [],
   "source": [
    "def get_sentiment(text):\n",
    "    analysis=TextBlob(text)\n",
    "    polarity=analysis.sentiment.polarity\n",
    "    return 1 if polarity>0 else 0"
   ]
  },
  {
   "cell_type": "code",
   "execution_count": 12,
   "id": "6d6e2be3",
   "metadata": {},
   "outputs": [],
   "source": [
    "reviews_dataset['Sentiment']=reviews_dataset['review_text'].apply(get_sentiment)"
   ]
  },
  {
   "cell_type": "code",
   "execution_count": 13,
   "id": "c6a71bd4",
   "metadata": {},
   "outputs": [
    {
     "data": {
      "text/html": [
       "<div>\n",
       "<style scoped>\n",
       "    .dataframe tbody tr th:only-of-type {\n",
       "        vertical-align: middle;\n",
       "    }\n",
       "\n",
       "    .dataframe tbody tr th {\n",
       "        vertical-align: top;\n",
       "    }\n",
       "\n",
       "    .dataframe thead th {\n",
       "        text-align: right;\n",
       "    }\n",
       "</style>\n",
       "<table border=\"1\" class=\"dataframe\">\n",
       "  <thead>\n",
       "    <tr style=\"text-align: right;\">\n",
       "      <th></th>\n",
       "      <th>book_id</th>\n",
       "      <th>rating</th>\n",
       "      <th>review_text</th>\n",
       "      <th>Sentiment</th>\n",
       "    </tr>\n",
       "  </thead>\n",
       "  <tbody>\n",
       "    <tr>\n",
       "      <th>0</th>\n",
       "      <td>18245960</td>\n",
       "      <td>5</td>\n",
       "      <td>This is a special book. It started slow for ab...</td>\n",
       "      <td>1</td>\n",
       "    </tr>\n",
       "    <tr>\n",
       "      <th>1</th>\n",
       "      <td>16981</td>\n",
       "      <td>3</td>\n",
       "      <td>Recommended by Don Katz. Avail for free in Dec...</td>\n",
       "      <td>1</td>\n",
       "    </tr>\n",
       "    <tr>\n",
       "      <th>2</th>\n",
       "      <td>28684704</td>\n",
       "      <td>3</td>\n",
       "      <td>A fun, fast paced science fiction thriller. I ...</td>\n",
       "      <td>1</td>\n",
       "    </tr>\n",
       "    <tr>\n",
       "      <th>3</th>\n",
       "      <td>27161156</td>\n",
       "      <td>0</td>\n",
       "      <td>Recommended reading to understand what is goin...</td>\n",
       "      <td>1</td>\n",
       "    </tr>\n",
       "    <tr>\n",
       "      <th>4</th>\n",
       "      <td>25884323</td>\n",
       "      <td>4</td>\n",
       "      <td>I really enjoyed this book, and there is a lot...</td>\n",
       "      <td>1</td>\n",
       "    </tr>\n",
       "    <tr>\n",
       "      <th>...</th>\n",
       "      <td>...</td>\n",
       "      <td>...</td>\n",
       "      <td>...</td>\n",
       "      <td>...</td>\n",
       "    </tr>\n",
       "    <tr>\n",
       "      <th>7336</th>\n",
       "      <td>6366110</td>\n",
       "      <td>5</td>\n",
       "      <td>This is the third book in Sanderson's Alcatraz...</td>\n",
       "      <td>1</td>\n",
       "    </tr>\n",
       "    <tr>\n",
       "      <th>7337</th>\n",
       "      <td>1166599</td>\n",
       "      <td>5</td>\n",
       "      <td>Egwene al'Vere is awesome. That is all.</td>\n",
       "      <td>1</td>\n",
       "    </tr>\n",
       "    <tr>\n",
       "      <th>7338</th>\n",
       "      <td>1268479</td>\n",
       "      <td>5</td>\n",
       "      <td>Just to say two things about Warbreaker: \\n 1....</td>\n",
       "      <td>1</td>\n",
       "    </tr>\n",
       "    <tr>\n",
       "      <th>7339</th>\n",
       "      <td>140974</td>\n",
       "      <td>3</td>\n",
       "      <td>** spoiler alert ** \\n My main problem with th...</td>\n",
       "      <td>0</td>\n",
       "    </tr>\n",
       "    <tr>\n",
       "      <th>7340</th>\n",
       "      <td>13891</td>\n",
       "      <td>5</td>\n",
       "      <td>Winter's Heart is a lovely interlude between t...</td>\n",
       "      <td>1</td>\n",
       "    </tr>\n",
       "  </tbody>\n",
       "</table>\n",
       "<p>7341 rows × 4 columns</p>\n",
       "</div>"
      ],
      "text/plain": [
       "       book_id  rating                                        review_text  \\\n",
       "0     18245960       5  This is a special book. It started slow for ab...   \n",
       "1        16981       3  Recommended by Don Katz. Avail for free in Dec...   \n",
       "2     28684704       3  A fun, fast paced science fiction thriller. I ...   \n",
       "3     27161156       0  Recommended reading to understand what is goin...   \n",
       "4     25884323       4  I really enjoyed this book, and there is a lot...   \n",
       "...        ...     ...                                                ...   \n",
       "7336   6366110       5  This is the third book in Sanderson's Alcatraz...   \n",
       "7337   1166599       5            Egwene al'Vere is awesome. That is all.   \n",
       "7338   1268479       5  Just to say two things about Warbreaker: \\n 1....   \n",
       "7339    140974       3  ** spoiler alert ** \\n My main problem with th...   \n",
       "7340     13891       5  Winter's Heart is a lovely interlude between t...   \n",
       "\n",
       "      Sentiment  \n",
       "0             1  \n",
       "1             1  \n",
       "2             1  \n",
       "3             1  \n",
       "4             1  \n",
       "...         ...  \n",
       "7336          1  \n",
       "7337          1  \n",
       "7338          1  \n",
       "7339          0  \n",
       "7340          1  \n",
       "\n",
       "[7341 rows x 4 columns]"
      ]
     },
     "execution_count": 13,
     "metadata": {},
     "output_type": "execute_result"
    }
   ],
   "source": [
    "reviews_dataset"
   ]
  },
  {
   "cell_type": "markdown",
   "id": "6118257f",
   "metadata": {},
   "source": [
    "## Creating the Bag of Words model"
   ]
  },
  {
   "cell_type": "code",
   "execution_count": 14,
   "id": "885e3425",
   "metadata": {},
   "outputs": [],
   "source": [
    "from sklearn.feature_extraction.text import CountVectorizer\n",
    "cv = CountVectorizer(max_features = 2200)\n",
    "X = cv.fit_transform(corpus).toarray()\n",
    "y = reviews_dataset.iloc[:, -1].values"
   ]
  },
  {
   "cell_type": "code",
   "execution_count": 15,
   "id": "6558c257",
   "metadata": {},
   "outputs": [
    {
     "data": {
      "text/html": [
       "<div>\n",
       "<style scoped>\n",
       "    .dataframe tbody tr th:only-of-type {\n",
       "        vertical-align: middle;\n",
       "    }\n",
       "\n",
       "    .dataframe tbody tr th {\n",
       "        vertical-align: top;\n",
       "    }\n",
       "\n",
       "    .dataframe thead th {\n",
       "        text-align: right;\n",
       "    }\n",
       "</style>\n",
       "<table border=\"1\" class=\"dataframe\">\n",
       "  <thead>\n",
       "    <tr style=\"text-align: right;\">\n",
       "      <th></th>\n",
       "      <th>book_id</th>\n",
       "      <th>rating</th>\n",
       "      <th>review_text</th>\n",
       "      <th>Sentiment</th>\n",
       "    </tr>\n",
       "  </thead>\n",
       "  <tbody>\n",
       "    <tr>\n",
       "      <th>0</th>\n",
       "      <td>18245960</td>\n",
       "      <td>5</td>\n",
       "      <td>This is a special book. It started slow for ab...</td>\n",
       "      <td>1</td>\n",
       "    </tr>\n",
       "    <tr>\n",
       "      <th>1</th>\n",
       "      <td>16981</td>\n",
       "      <td>3</td>\n",
       "      <td>Recommended by Don Katz. Avail for free in Dec...</td>\n",
       "      <td>1</td>\n",
       "    </tr>\n",
       "    <tr>\n",
       "      <th>2</th>\n",
       "      <td>28684704</td>\n",
       "      <td>3</td>\n",
       "      <td>A fun, fast paced science fiction thriller. I ...</td>\n",
       "      <td>1</td>\n",
       "    </tr>\n",
       "    <tr>\n",
       "      <th>3</th>\n",
       "      <td>27161156</td>\n",
       "      <td>0</td>\n",
       "      <td>Recommended reading to understand what is goin...</td>\n",
       "      <td>1</td>\n",
       "    </tr>\n",
       "    <tr>\n",
       "      <th>4</th>\n",
       "      <td>25884323</td>\n",
       "      <td>4</td>\n",
       "      <td>I really enjoyed this book, and there is a lot...</td>\n",
       "      <td>1</td>\n",
       "    </tr>\n",
       "    <tr>\n",
       "      <th>...</th>\n",
       "      <td>...</td>\n",
       "      <td>...</td>\n",
       "      <td>...</td>\n",
       "      <td>...</td>\n",
       "    </tr>\n",
       "    <tr>\n",
       "      <th>7336</th>\n",
       "      <td>6366110</td>\n",
       "      <td>5</td>\n",
       "      <td>This is the third book in Sanderson's Alcatraz...</td>\n",
       "      <td>1</td>\n",
       "    </tr>\n",
       "    <tr>\n",
       "      <th>7337</th>\n",
       "      <td>1166599</td>\n",
       "      <td>5</td>\n",
       "      <td>Egwene al'Vere is awesome. That is all.</td>\n",
       "      <td>1</td>\n",
       "    </tr>\n",
       "    <tr>\n",
       "      <th>7338</th>\n",
       "      <td>1268479</td>\n",
       "      <td>5</td>\n",
       "      <td>Just to say two things about Warbreaker: \\n 1....</td>\n",
       "      <td>1</td>\n",
       "    </tr>\n",
       "    <tr>\n",
       "      <th>7339</th>\n",
       "      <td>140974</td>\n",
       "      <td>3</td>\n",
       "      <td>** spoiler alert ** \\n My main problem with th...</td>\n",
       "      <td>0</td>\n",
       "    </tr>\n",
       "    <tr>\n",
       "      <th>7340</th>\n",
       "      <td>13891</td>\n",
       "      <td>5</td>\n",
       "      <td>Winter's Heart is a lovely interlude between t...</td>\n",
       "      <td>1</td>\n",
       "    </tr>\n",
       "  </tbody>\n",
       "</table>\n",
       "<p>7341 rows × 4 columns</p>\n",
       "</div>"
      ],
      "text/plain": [
       "       book_id  rating                                        review_text  \\\n",
       "0     18245960       5  This is a special book. It started slow for ab...   \n",
       "1        16981       3  Recommended by Don Katz. Avail for free in Dec...   \n",
       "2     28684704       3  A fun, fast paced science fiction thriller. I ...   \n",
       "3     27161156       0  Recommended reading to understand what is goin...   \n",
       "4     25884323       4  I really enjoyed this book, and there is a lot...   \n",
       "...        ...     ...                                                ...   \n",
       "7336   6366110       5  This is the third book in Sanderson's Alcatraz...   \n",
       "7337   1166599       5            Egwene al'Vere is awesome. That is all.   \n",
       "7338   1268479       5  Just to say two things about Warbreaker: \\n 1....   \n",
       "7339    140974       3  ** spoiler alert ** \\n My main problem with th...   \n",
       "7340     13891       5  Winter's Heart is a lovely interlude between t...   \n",
       "\n",
       "      Sentiment  \n",
       "0             1  \n",
       "1             1  \n",
       "2             1  \n",
       "3             1  \n",
       "4             1  \n",
       "...         ...  \n",
       "7336          1  \n",
       "7337          1  \n",
       "7338          1  \n",
       "7339          0  \n",
       "7340          1  \n",
       "\n",
       "[7341 rows x 4 columns]"
      ]
     },
     "execution_count": 15,
     "metadata": {},
     "output_type": "execute_result"
    }
   ],
   "source": [
    "reviews_dataset"
   ]
  },
  {
   "cell_type": "code",
   "execution_count": 16,
   "id": "74c19fd8",
   "metadata": {
    "scrolled": true
   },
   "outputs": [
    {
     "data": {
      "text/plain": [
       "array([[0, 0, 0, ..., 0, 0, 0],\n",
       "       [0, 0, 0, ..., 0, 0, 0],\n",
       "       [0, 0, 0, ..., 0, 0, 0],\n",
       "       ...,\n",
       "       [0, 0, 0, ..., 0, 0, 0],\n",
       "       [0, 0, 0, ..., 0, 0, 0],\n",
       "       [0, 0, 0, ..., 0, 0, 0]], dtype=int64)"
      ]
     },
     "execution_count": 16,
     "metadata": {},
     "output_type": "execute_result"
    }
   ],
   "source": [
    "X"
   ]
  },
  {
   "cell_type": "markdown",
   "id": "9471b1b5",
   "metadata": {},
   "source": [
    "## Splitting train and test data"
   ]
  },
  {
   "cell_type": "code",
   "execution_count": 17,
   "id": "2f13b246",
   "metadata": {},
   "outputs": [],
   "source": [
    "from sklearn.model_selection import train_test_split\n",
    "X_train,X_test,y_train,y_test=train_test_split(X,y,test_size=0.20,random_state=0)"
   ]
  },
  {
   "cell_type": "markdown",
   "id": "4a790f03",
   "metadata": {},
   "source": [
    "## Training the Naive Bayes model on the Training set"
   ]
  },
  {
   "cell_type": "code",
   "execution_count": 18,
   "id": "bf7d0307",
   "metadata": {},
   "outputs": [
    {
     "data": {
      "text/html": [
       "<style>#sk-container-id-1 {color: black;background-color: white;}#sk-container-id-1 pre{padding: 0;}#sk-container-id-1 div.sk-toggleable {background-color: white;}#sk-container-id-1 label.sk-toggleable__label {cursor: pointer;display: block;width: 100%;margin-bottom: 0;padding: 0.3em;box-sizing: border-box;text-align: center;}#sk-container-id-1 label.sk-toggleable__label-arrow:before {content: \"▸\";float: left;margin-right: 0.25em;color: #696969;}#sk-container-id-1 label.sk-toggleable__label-arrow:hover:before {color: black;}#sk-container-id-1 div.sk-estimator:hover label.sk-toggleable__label-arrow:before {color: black;}#sk-container-id-1 div.sk-toggleable__content {max-height: 0;max-width: 0;overflow: hidden;text-align: left;background-color: #f0f8ff;}#sk-container-id-1 div.sk-toggleable__content pre {margin: 0.2em;color: black;border-radius: 0.25em;background-color: #f0f8ff;}#sk-container-id-1 input.sk-toggleable__control:checked~div.sk-toggleable__content {max-height: 200px;max-width: 100%;overflow: auto;}#sk-container-id-1 input.sk-toggleable__control:checked~label.sk-toggleable__label-arrow:before {content: \"▾\";}#sk-container-id-1 div.sk-estimator input.sk-toggleable__control:checked~label.sk-toggleable__label {background-color: #d4ebff;}#sk-container-id-1 div.sk-label input.sk-toggleable__control:checked~label.sk-toggleable__label {background-color: #d4ebff;}#sk-container-id-1 input.sk-hidden--visually {border: 0;clip: rect(1px 1px 1px 1px);clip: rect(1px, 1px, 1px, 1px);height: 1px;margin: -1px;overflow: hidden;padding: 0;position: absolute;width: 1px;}#sk-container-id-1 div.sk-estimator {font-family: monospace;background-color: #f0f8ff;border: 1px dotted black;border-radius: 0.25em;box-sizing: border-box;margin-bottom: 0.5em;}#sk-container-id-1 div.sk-estimator:hover {background-color: #d4ebff;}#sk-container-id-1 div.sk-parallel-item::after {content: \"\";width: 100%;border-bottom: 1px solid gray;flex-grow: 1;}#sk-container-id-1 div.sk-label:hover label.sk-toggleable__label {background-color: #d4ebff;}#sk-container-id-1 div.sk-serial::before {content: \"\";position: absolute;border-left: 1px solid gray;box-sizing: border-box;top: 0;bottom: 0;left: 50%;z-index: 0;}#sk-container-id-1 div.sk-serial {display: flex;flex-direction: column;align-items: center;background-color: white;padding-right: 0.2em;padding-left: 0.2em;position: relative;}#sk-container-id-1 div.sk-item {position: relative;z-index: 1;}#sk-container-id-1 div.sk-parallel {display: flex;align-items: stretch;justify-content: center;background-color: white;position: relative;}#sk-container-id-1 div.sk-item::before, #sk-container-id-1 div.sk-parallel-item::before {content: \"\";position: absolute;border-left: 1px solid gray;box-sizing: border-box;top: 0;bottom: 0;left: 50%;z-index: -1;}#sk-container-id-1 div.sk-parallel-item {display: flex;flex-direction: column;z-index: 1;position: relative;background-color: white;}#sk-container-id-1 div.sk-parallel-item:first-child::after {align-self: flex-end;width: 50%;}#sk-container-id-1 div.sk-parallel-item:last-child::after {align-self: flex-start;width: 50%;}#sk-container-id-1 div.sk-parallel-item:only-child::after {width: 0;}#sk-container-id-1 div.sk-dashed-wrapped {border: 1px dashed gray;margin: 0 0.4em 0.5em 0.4em;box-sizing: border-box;padding-bottom: 0.4em;background-color: white;}#sk-container-id-1 div.sk-label label {font-family: monospace;font-weight: bold;display: inline-block;line-height: 1.2em;}#sk-container-id-1 div.sk-label-container {text-align: center;}#sk-container-id-1 div.sk-container {/* jupyter's `normalize.less` sets `[hidden] { display: none; }` but bootstrap.min.css set `[hidden] { display: none !important; }` so we also need the `!important` here to be able to override the default hidden behavior on the sphinx rendered scikit-learn.org. See: https://github.com/scikit-learn/scikit-learn/issues/21755 */display: inline-block !important;position: relative;}#sk-container-id-1 div.sk-text-repr-fallback {display: none;}</style><div id=\"sk-container-id-1\" class=\"sk-top-container\"><div class=\"sk-text-repr-fallback\"><pre>GaussianNB()</pre><b>In a Jupyter environment, please rerun this cell to show the HTML representation or trust the notebook. <br />On GitHub, the HTML representation is unable to render, please try loading this page with nbviewer.org.</b></div><div class=\"sk-container\" hidden><div class=\"sk-item\"><div class=\"sk-estimator sk-toggleable\"><input class=\"sk-toggleable__control sk-hidden--visually\" id=\"sk-estimator-id-1\" type=\"checkbox\" checked><label for=\"sk-estimator-id-1\" class=\"sk-toggleable__label sk-toggleable__label-arrow\">GaussianNB</label><div class=\"sk-toggleable__content\"><pre>GaussianNB()</pre></div></div></div></div></div>"
      ],
      "text/plain": [
       "GaussianNB()"
      ]
     },
     "execution_count": 18,
     "metadata": {},
     "output_type": "execute_result"
    }
   ],
   "source": [
    "from sklearn.naive_bayes import GaussianNB\n",
    "classifier = GaussianNB()\n",
    "classifier.fit(X_train, y_train)"
   ]
  },
  {
   "cell_type": "code",
   "execution_count": 19,
   "id": "876d0c14",
   "metadata": {},
   "outputs": [
    {
     "name": "stdout",
     "output_type": "stream",
     "text": [
      "[[0 1]\n",
      " [1 1]\n",
      " [0 0]\n",
      " ...\n",
      " [1 1]\n",
      " [1 1]\n",
      " [1 1]]\n"
     ]
    }
   ],
   "source": [
    "y_pred = classifier.predict(X_test)\n",
    "print(np.concatenate((y_pred.reshape(len(y_pred),1), y_test.reshape(len(y_test),1)),1))"
   ]
  },
  {
   "cell_type": "code",
   "execution_count": 20,
   "id": "cdc689bc",
   "metadata": {},
   "outputs": [
    {
     "name": "stdout",
     "output_type": "stream",
     "text": [
      "[[133  45]\n",
      " [497 794]]\n"
     ]
    },
    {
     "data": {
      "text/plain": [
       "0.6310415248468346"
      ]
     },
     "execution_count": 20,
     "metadata": {},
     "output_type": "execute_result"
    }
   ],
   "source": [
    "from sklearn.metrics import confusion_matrix, accuracy_score\n",
    "cm = confusion_matrix(y_test, y_pred)\n",
    "print(cm)\n",
    "accuracy_score(y_test, y_pred)"
   ]
  },
  {
   "cell_type": "markdown",
   "id": "0bd52e4d",
   "metadata": {},
   "source": [
    "## Training the Random forest model on the Training set"
   ]
  },
  {
   "cell_type": "code",
   "execution_count": 21,
   "id": "c0cf72a9",
   "metadata": {},
   "outputs": [
    {
     "data": {
      "text/html": [
       "<style>#sk-container-id-2 {color: black;background-color: white;}#sk-container-id-2 pre{padding: 0;}#sk-container-id-2 div.sk-toggleable {background-color: white;}#sk-container-id-2 label.sk-toggleable__label {cursor: pointer;display: block;width: 100%;margin-bottom: 0;padding: 0.3em;box-sizing: border-box;text-align: center;}#sk-container-id-2 label.sk-toggleable__label-arrow:before {content: \"▸\";float: left;margin-right: 0.25em;color: #696969;}#sk-container-id-2 label.sk-toggleable__label-arrow:hover:before {color: black;}#sk-container-id-2 div.sk-estimator:hover label.sk-toggleable__label-arrow:before {color: black;}#sk-container-id-2 div.sk-toggleable__content {max-height: 0;max-width: 0;overflow: hidden;text-align: left;background-color: #f0f8ff;}#sk-container-id-2 div.sk-toggleable__content pre {margin: 0.2em;color: black;border-radius: 0.25em;background-color: #f0f8ff;}#sk-container-id-2 input.sk-toggleable__control:checked~div.sk-toggleable__content {max-height: 200px;max-width: 100%;overflow: auto;}#sk-container-id-2 input.sk-toggleable__control:checked~label.sk-toggleable__label-arrow:before {content: \"▾\";}#sk-container-id-2 div.sk-estimator input.sk-toggleable__control:checked~label.sk-toggleable__label {background-color: #d4ebff;}#sk-container-id-2 div.sk-label input.sk-toggleable__control:checked~label.sk-toggleable__label {background-color: #d4ebff;}#sk-container-id-2 input.sk-hidden--visually {border: 0;clip: rect(1px 1px 1px 1px);clip: rect(1px, 1px, 1px, 1px);height: 1px;margin: -1px;overflow: hidden;padding: 0;position: absolute;width: 1px;}#sk-container-id-2 div.sk-estimator {font-family: monospace;background-color: #f0f8ff;border: 1px dotted black;border-radius: 0.25em;box-sizing: border-box;margin-bottom: 0.5em;}#sk-container-id-2 div.sk-estimator:hover {background-color: #d4ebff;}#sk-container-id-2 div.sk-parallel-item::after {content: \"\";width: 100%;border-bottom: 1px solid gray;flex-grow: 1;}#sk-container-id-2 div.sk-label:hover label.sk-toggleable__label {background-color: #d4ebff;}#sk-container-id-2 div.sk-serial::before {content: \"\";position: absolute;border-left: 1px solid gray;box-sizing: border-box;top: 0;bottom: 0;left: 50%;z-index: 0;}#sk-container-id-2 div.sk-serial {display: flex;flex-direction: column;align-items: center;background-color: white;padding-right: 0.2em;padding-left: 0.2em;position: relative;}#sk-container-id-2 div.sk-item {position: relative;z-index: 1;}#sk-container-id-2 div.sk-parallel {display: flex;align-items: stretch;justify-content: center;background-color: white;position: relative;}#sk-container-id-2 div.sk-item::before, #sk-container-id-2 div.sk-parallel-item::before {content: \"\";position: absolute;border-left: 1px solid gray;box-sizing: border-box;top: 0;bottom: 0;left: 50%;z-index: -1;}#sk-container-id-2 div.sk-parallel-item {display: flex;flex-direction: column;z-index: 1;position: relative;background-color: white;}#sk-container-id-2 div.sk-parallel-item:first-child::after {align-self: flex-end;width: 50%;}#sk-container-id-2 div.sk-parallel-item:last-child::after {align-self: flex-start;width: 50%;}#sk-container-id-2 div.sk-parallel-item:only-child::after {width: 0;}#sk-container-id-2 div.sk-dashed-wrapped {border: 1px dashed gray;margin: 0 0.4em 0.5em 0.4em;box-sizing: border-box;padding-bottom: 0.4em;background-color: white;}#sk-container-id-2 div.sk-label label {font-family: monospace;font-weight: bold;display: inline-block;line-height: 1.2em;}#sk-container-id-2 div.sk-label-container {text-align: center;}#sk-container-id-2 div.sk-container {/* jupyter's `normalize.less` sets `[hidden] { display: none; }` but bootstrap.min.css set `[hidden] { display: none !important; }` so we also need the `!important` here to be able to override the default hidden behavior on the sphinx rendered scikit-learn.org. See: https://github.com/scikit-learn/scikit-learn/issues/21755 */display: inline-block !important;position: relative;}#sk-container-id-2 div.sk-text-repr-fallback {display: none;}</style><div id=\"sk-container-id-2\" class=\"sk-top-container\"><div class=\"sk-text-repr-fallback\"><pre>RandomForestClassifier(criterion=&#x27;entropy&#x27;, n_estimators=300, random_state=0)</pre><b>In a Jupyter environment, please rerun this cell to show the HTML representation or trust the notebook. <br />On GitHub, the HTML representation is unable to render, please try loading this page with nbviewer.org.</b></div><div class=\"sk-container\" hidden><div class=\"sk-item\"><div class=\"sk-estimator sk-toggleable\"><input class=\"sk-toggleable__control sk-hidden--visually\" id=\"sk-estimator-id-2\" type=\"checkbox\" checked><label for=\"sk-estimator-id-2\" class=\"sk-toggleable__label sk-toggleable__label-arrow\">RandomForestClassifier</label><div class=\"sk-toggleable__content\"><pre>RandomForestClassifier(criterion=&#x27;entropy&#x27;, n_estimators=300, random_state=0)</pre></div></div></div></div></div>"
      ],
      "text/plain": [
       "RandomForestClassifier(criterion='entropy', n_estimators=300, random_state=0)"
      ]
     },
     "execution_count": 21,
     "metadata": {},
     "output_type": "execute_result"
    }
   ],
   "source": [
    "from sklearn.ensemble import RandomForestClassifier\n",
    "classifier = RandomForestClassifier(n_estimators = 300, criterion = 'entropy', random_state = 0)\n",
    "classifier.fit(X_train, y_train)"
   ]
  },
  {
   "cell_type": "code",
   "execution_count": 22,
   "id": "fd0fbdb3",
   "metadata": {},
   "outputs": [
    {
     "name": "stdout",
     "output_type": "stream",
     "text": [
      "[[1 1]\n",
      " [1 1]\n",
      " [1 0]\n",
      " ...\n",
      " [1 1]\n",
      " [1 1]\n",
      " [1 1]]\n"
     ]
    }
   ],
   "source": [
    "y_pred = classifier.predict(X_test)\n",
    "print(np.concatenate((y_pred.reshape(len(y_pred),1), y_test.reshape(len(y_test),1)),1))"
   ]
  },
  {
   "cell_type": "code",
   "execution_count": 23,
   "id": "fa782786",
   "metadata": {},
   "outputs": [
    {
     "name": "stdout",
     "output_type": "stream",
     "text": [
      "[[  72  106]\n",
      " [  14 1277]]\n"
     ]
    },
    {
     "data": {
      "text/plain": [
       "0.9183117767188563"
      ]
     },
     "execution_count": 23,
     "metadata": {},
     "output_type": "execute_result"
    }
   ],
   "source": [
    "from sklearn.metrics import confusion_matrix, accuracy_score\n",
    "cm = confusion_matrix(y_test, y_pred)\n",
    "print(cm)\n",
    "accuracy_score(y_test, y_pred)"
   ]
  }
 ],
 "metadata": {
  "kernelspec": {
   "display_name": "Python 3 (ipykernel)",
   "language": "python",
   "name": "python3"
  },
  "language_info": {
   "codemirror_mode": {
    "name": "ipython",
    "version": 3
   },
   "file_extension": ".py",
   "mimetype": "text/x-python",
   "name": "python",
   "nbconvert_exporter": "python",
   "pygments_lexer": "ipython3",
   "version": "3.10.9"
  }
 },
 "nbformat": 4,
 "nbformat_minor": 5
}
